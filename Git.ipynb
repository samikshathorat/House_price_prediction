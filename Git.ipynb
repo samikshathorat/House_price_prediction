{
 "cells": [
  {
   "cell_type": "code",
   "execution_count": null,
   "id": "7781ae0e",
   "metadata": {},
   "outputs": [],
   "source": [
    "1.gitHub\n",
    "2.Gitlab\n",
    "3.Bitbucket"
   ]
  },
  {
   "cell_type": "code",
   "execution_count": null,
   "id": "e0e86ec5",
   "metadata": {},
   "outputs": [],
   "source": [
    "development\n",
    "production"
   ]
  },
  {
   "cell_type": "markdown",
   "id": "41385a40",
   "metadata": {},
   "source": [
    "## 1.Clone repository"
   ]
  },
  {
   "cell_type": "code",
   "execution_count": null,
   "id": "48eac9de",
   "metadata": {},
   "outputs": [],
   "source": [
    "git clone url\n",
    "git clone https://github.com/mj099/House_price_Prediction.git (https)"
   ]
  },
  {
   "cell_type": "markdown",
   "id": "2a3ce5b4",
   "metadata": {},
   "source": [
    "## 2.Check status of your project"
   ]
  },
  {
   "cell_type": "code",
   "execution_count": null,
   "id": "27ecbbd3",
   "metadata": {},
   "outputs": [],
   "source": [
    "git status"
   ]
  },
  {
   "cell_type": "markdown",
   "id": "75ae7011",
   "metadata": {},
   "source": [
    "## 3.check branch"
   ]
  },
  {
   "cell_type": "code",
   "execution_count": null,
   "id": "81f32975",
   "metadata": {},
   "outputs": [],
   "source": [
    "git branch"
   ]
  },
  {
   "cell_type": "markdown",
   "id": "6af0df5f",
   "metadata": {},
   "source": [
    "## 4.creat local branch"
   ]
  },
  {
   "cell_type": "code",
   "execution_count": null,
   "id": "feb93179",
   "metadata": {},
   "outputs": [],
   "source": [
    "git checkout -b \"branch_name\"\n",
    "\n",
    "git chechout -b \"feature/feature_selection\""
   ]
  },
  {
   "cell_type": "markdown",
   "id": "a1f091ec",
   "metadata": {},
   "source": [
    "## 5.add your file"
   ]
  },
  {
   "cell_type": "code",
   "execution_count": null,
   "id": "44df0256",
   "metadata": {},
   "outputs": [],
   "source": [
    "git add file_name\n",
    "\n",
    "git add hpp_test.ipynb\n",
    "\n",
    "git add*"
   ]
  },
  {
   "cell_type": "markdown",
   "id": "9c30a1ee",
   "metadata": {},
   "source": [
    "## 6.commit the code"
   ]
  },
  {
   "cell_type": "code",
   "execution_count": null,
   "id": "9b04b29d",
   "metadata": {},
   "outputs": [],
   "source": [
    "git commit -m \"massage\"\n",
    "\n",
    "git commit -m \"data script\""
   ]
  },
  {
   "cell_type": "markdown",
   "id": "b703180c",
   "metadata": {},
   "source": [
    "## 7. push"
   ]
  },
  {
   "cell_type": "code",
   "execution_count": null,
   "id": "cd95a200",
   "metadata": {},
   "outputs": [],
   "source": [
    "git push\n",
    "\n",
    "git push origin branch_name"
   ]
  },
  {
   "cell_type": "markdown",
   "id": "72d95b6a",
   "metadata": {},
   "source": [
    "## 8.check the branches"
   ]
  },
  {
   "cell_type": "code",
   "execution_count": null,
   "id": "3345d5a2",
   "metadata": {},
   "outputs": [],
   "source": [
    "git branch"
   ]
  },
  {
   "cell_type": "markdown",
   "id": "4547257b",
   "metadata": {},
   "source": [
    "## 9.branch delete"
   ]
  },
  {
   "cell_type": "code",
   "execution_count": null,
   "id": "aba9b205",
   "metadata": {},
   "outputs": [],
   "source": [
    "git brach -d branch_name"
   ]
  }
 ],
 "metadata": {
  "kernelspec": {
   "display_name": "Python 3 (ipykernel)",
   "language": "python",
   "name": "python3"
  },
  "language_info": {
   "codemirror_mode": {
    "name": "ipython",
    "version": 3
   },
   "file_extension": ".py",
   "mimetype": "text/x-python",
   "name": "python",
   "nbconvert_exporter": "python",
   "pygments_lexer": "ipython3",
   "version": "3.9.7"
  }
 },
 "nbformat": 4,
 "nbformat_minor": 5
}
